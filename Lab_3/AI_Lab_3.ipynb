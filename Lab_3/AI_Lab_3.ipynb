{
  "nbformat": 4,
  "nbformat_minor": 0,
  "metadata": {
    "colab": {
      "provenance": [],
      "collapsed_sections": [],
      "authorship_tag": "ABX9TyOtM4a0+8/GjUuF1cyvPOtb",
      "include_colab_link": true
    },
    "kernelspec": {
      "name": "python3",
      "display_name": "Python 3"
    },
    "language_info": {
      "name": "python"
    }
  },
  "cells": [
    {
      "cell_type": "markdown",
      "metadata": {
        "id": "view-in-github",
        "colab_type": "text"
      },
      "source": [
        "<a href=\"https://colab.research.google.com/github/Mr-big-cake/Fundamental_AI/blob/main/Lab_3/AI_Lab_3.ipynb\" target=\"_parent\"><img src=\"https://colab.research.google.com/assets/colab-badge.svg\" alt=\"Open In Colab\"/></a>"
      ]
    },
    {
      "cell_type": "code",
      "source": [
        "import math\n",
        "import numpy as np\n",
        "from matplotlib import pyplot as plt\n",
        "from matplotlib import animation\n",
        "from matplotlib import rc\n",
        "from matplotlib import colors as cm\n",
        "from typing import Tuple, Mapping\n",
        "from enum import Enum\n",
        "from numba import njit\n",
        "import timeit"
      ],
      "metadata": {
        "id": "qhc5QQJoWpSg"
      },
      "execution_count": 72,
      "outputs": []
    },
    {
      "cell_type": "code",
      "source": [
        "class Function(Enum):#Enum для выбора функций \n",
        "  MATIAS = 1\n",
        "  SPHERE = 2\n",
        "class SGD_Modification(Enum):#Enum для выбора модификаций\n",
        "  SIMPLE = 1 # без модификаций\n",
        "  MOMENT = 2 # моментная\n",
        "  ADAPTIVE = 3 # Adam\n",
        "class numbaGD():\n",
        "  @staticmethod\n",
        "  @njit\n",
        "  def Matias (x: np.ndarray, y:np.ndarray) -> np.float128 :\n",
        "    return  np.array(0.26*(x*x + y*y) - 0.48*x*y)\n",
        "  @staticmethod\n",
        "  @njit\n",
        "  def Matias_dfdx(x:np.ndarray, y:np.ndarray)-> np.float128:\n",
        "    return  np.array(0.52*x - 0.48*y)\n",
        "  @staticmethod\n",
        "  @njit\n",
        "  def Matias_dfdy(x:np.ndarray, y:np.ndarray)-> np.float128:\n",
        "    return np.array(-0.48*x + 0.52*y)\n",
        "  @staticmethod\n",
        "  @njit\n",
        "  def Sphere (self,x: np.ndarray, y:np.ndarray,\n",
        "              r: np.ndarray = 0.8)-> np.float128:\n",
        "    return np.array(-np.sqrt(-x**2 - y**2 + r**2)) \n",
        "  @staticmethod\n",
        "  @njit\n",
        "  def Sphere_dfdx(self,x: np.ndarray, y:np.ndarray,\n",
        "                  r: np.ndarray = 0.8)-> np.float128:\n",
        "    return np.array(x/np.sqrt(r**2 - x**2 - y**2))\n",
        "  @staticmethod\n",
        "  @njit\n",
        "  def Sphere_dfdy(self,x: np.ndarray, y:np.ndarray,\n",
        "                  r: np.ndarray = 0.8)-> np.float128:\n",
        "    return np.array(np.array(y/np.sqrt(r**2 - x**2 - y**2)))\n",
        "\n",
        "  @staticmethod\n",
        "  def GD_Plot_CPU(mod:SGD_Modification, f: Mapping, fdfdx: Mapping, fdfdy:Mapping, xt: np.ndarray, yt: np.ndarray, lr: float = 0.01, count_epochs: int = 10000):\n",
        "    for c_e in np.arange(count_epochs):\n",
        "      dfdx = fdfdx(xt, yt)\n",
        "      dfdy = fdfdy(xt, yt)\n",
        "      if (mod == SGD_Modification.SIMPLE):\n",
        "        xt = xt - lr * dfdx\n",
        "        yt = yt - lr * dfdy\n",
        "      elif(mod == SGD_Modification.MOMENT):\n",
        "        kb = 0.9\n",
        "        xt = kb * xt - (1 - kb) * dfdx\n",
        "        yt = kb * yt - (1 - kb) * dfdy\n",
        "      elif(mod == SGD_Modification.ADAPTIVE):\n",
        "        k1, k2, eps, v_x, v_y, G_x, G_y = 0.9, 0.99, 1e-8, 0, 0, 0, 0\n",
        "        v_x = k1 * v_x + (1 - k1) * dfdx\n",
        "        v_y = k1 * v_y + (1 - k1) * dfdy\n",
        "        G_x = k2 * G_x + (1 - k2) * (dfdx) ** 2\n",
        "        G_y = k2 * G_y + (1 - k2) * (dfdy) ** 2\n",
        "        xt = xt - lr * v_x / np.sqrt(G_x + eps) ** (1 / 2)\n",
        "        yt = yt - lr * v_y / np.sqrt(G_y + eps) ** (1 / 2)\n",
        "        \n",
        "    return xt, yt, f(xt, yt)\n",
        "\n",
        "  @staticmethod\n",
        "  @njit\n",
        "  def GD_Plot(mod:SGD_Modification, f: Mapping, fdfdx: Mapping, fdfdy:Mapping, xt: np.ndarray, yt: np.ndarray, lr: float = 0.01, count_epochs: int = 10000):\n",
        "    for c_e in np.arange(count_epochs):\n",
        "      dfdx = fdfdx(xt, yt)\n",
        "      dfdy = fdfdy(xt, yt)\n",
        "      if (mod == SGD_Modification.SIMPLE):\n",
        "        xt = xt - lr * dfdx\n",
        "        yt = yt - lr * dfdy\n",
        "      elif(mod == SGD_Modification.MOMENT):\n",
        "        kb = 0.9\n",
        "        xt = kb * xt - (1 - kb) * dfdx\n",
        "        yt = kb * yt - (1 - kb) * dfdy\n",
        "      elif(mod == SGD_Modification.ADAPTIVE):\n",
        "        k1, k2, eps, v_x, v_y, G_x, G_y = 0.9, 0.99, 1e-8, 0, 0, 0, 0\n",
        "        v_x = k1 * v_x + (1 - k1) * dfdx\n",
        "        v_y = k1 * v_y + (1 - k1) * dfdy\n",
        "        G_x = k2 * G_x + (1 - k2) * (dfdx) ** 2\n",
        "        G_y = k2 * G_y + (1 - k2) * (dfdy) ** 2\n",
        "        xt = xt - lr * v_x / np.sqrt(G_x + eps) ** (1 / 2)\n",
        "        yt = yt - lr * v_y / np.sqrt(G_y + eps) ** (1 / 2)\n",
        "        \n",
        "    return xt, yt, f(xt, yt)\n",
        "\n",
        "    @staticmethod\n",
        "    @njit\n",
        "    def Plot_Plot(f, p_x, p_y, p_z, history, h= 80 , a = 55,\n",
        "                difference = 1,  rad = 0.8, opt = 0.3):\n",
        "      log = history\n",
        "      fig = plt.figure(figsize=(20,15))\n",
        "      x = np.linspace(-difference, difference, 100) \n",
        "      y = np.linspace(-difference, difference, 100) \n",
        "      X, Y = np.meshgrid(x, y) \n",
        "      Z = f(X, Y) \n",
        "      ax = plt.axes(projection ='3d') \n",
        "      ax.view_init(h, a) # Высота и угол  \n",
        "      ax.plot_wireframe(X, Y, Z, color ='blue', alpha = 0.1) \n",
        "      ax.scatter(log[0][0], log[0][1], log[0][2], linewidths  = 5 ,\n",
        "               color='yellow', alpha = 1, label = 'Начальная точка')\n",
        "      ax.scatter(p_x, p_y, p_z, linewidths  = 5 ,\n",
        "               color='red', alpha = 1, label = 'Результат работы SGD')\n",
        "      ax.scatter(0, 0, -rad, linewidths  = 8 ,\n",
        "               color='black', alpha = 1, label = 'Оптимум')\n",
        "      ax.legend(fontsize=10)\n",
        "      ax.plot3D(np.linspace(p_x, p_x, 2), np.linspace(p_y, p_y, 2),\n",
        "              np.linspace(p_z, opt, 2), 'red')\n",
        "      dlog = 1 \n",
        "      for i in range(0, len(log) - dlog, dlog):\n",
        "        ax.plot3D(np.linspace(log[i][0], log[i+1][0] , 2),\n",
        "                np.linspace(log[i][1], log[i+1][1], 2), \n",
        "                np.linspace(log[i][2], log[i+1][2], 2), 'grey', alpha = 0.4)"
      ],
      "metadata": {
        "id": "4c9zkiJR2Q2K"
      },
      "execution_count": 81,
      "outputs": []
    },
    {
      "cell_type": "code",
      "source": [
        "x, y, z  = numbaGD.GD_Plot(SGD_Modification.SIMPLE, numbaGD.Matias, numbaGD.Matias_dfdx, numbaGD.Matias_dfdy, 0.5, 0.5 )\n",
        "print(\"Результат работы numbaGD\")\n",
        "print(\"x = \", x,\"\\ny = \", y, \"\\nf(x, y) = \", z)"
      ],
      "metadata": {
        "colab": {
          "base_uri": "https://localhost:8080/"
        },
        "id": "QSlycLsvdBJ7",
        "outputId": "3e7c76f0-feb1-46b6-8404-3cdaffcb55fa"
      },
      "execution_count": 78,
      "outputs": [
        {
          "output_type": "stream",
          "name": "stdout",
          "text": [
            "Результат работы numbaGD\n",
            "x =  0.009150494165841029 \n",
            "y =  0.009150494165841029 \n",
            "f(x, y) =  3.3492617391636185e-06\n"
          ]
        }
      ]
    },
    {
      "cell_type": "code",
      "source": [
        "x, y, z  = numbaGD.GD_Plot(SGD_Modification.MOMENT, numbaGD.Matias, numbaGD.Matias_dfdx, numbaGD.Matias_dfdy, 0.5, 0.5 )\n",
        "print(\"Результат работы numbaGD с мометной модификацией\")\n",
        "print(\"x = \", x,\"\\ny= \", y, \"\\nf(x, y) = \", z)"
      ],
      "metadata": {
        "colab": {
          "base_uri": "https://localhost:8080/"
        },
        "id": "i2yT4PjPR05z",
        "outputId": "d5dbc259-0cbb-43dc-b840-f6e9e5ef9b3e"
      },
      "execution_count": 79,
      "outputs": [
        {
          "output_type": "stream",
          "name": "stdout",
          "text": [
            "Результат работы numbaGD с мометной модификацией\n",
            "x =  2.5e-323 \n",
            "y=  2.5e-323 \n",
            "f(x, y) =  0.0\n"
          ]
        }
      ]
    },
    {
      "cell_type": "code",
      "source": [
        "x, y, z  = numbaGD.GD_Plot(SGD_Modification.ADAPTIVE, numbaGD.Matias, numbaGD.Matias_dfdx, numbaGD.Matias_dfdy, 0.5, 0.5 )\n",
        "print(\"Результат работы numbaGD с адаптивной модификацией\")\n",
        "print(\"x = \", x,\"\\ny= \", y, \"\\nf(x, y) = \", z)"
      ],
      "metadata": {
        "colab": {
          "base_uri": "https://localhost:8080/"
        },
        "id": "PIHkOX7_TPWJ",
        "outputId": "f8b4e36e-7cbc-4e75-d145-d7f60bd2e5e6"
      },
      "execution_count": 80,
      "outputs": [
        {
          "output_type": "stream",
          "name": "stdout",
          "text": [
            "Результат работы numbaGD с адаптивной модификацией\n",
            "x =  1.323702117784267e-16 \n",
            "y=  1.323702117784267e-16 \n",
            "f(x, y) =  7.008749186506224e-34\n"
          ]
        }
      ]
    },
    {
      "cell_type": "code",
      "source": [
        "print(\"Время работы без numba:\")\n",
        "print(timeit.timeit(\"numbaGD.GD_Plot_CPU(SGD_Modification.MOMENT, numbaGD.Matias, numbaGD.Matias_dfdx, numbaGD.Matias_dfdy, 0.5, 0.5 )\", globals=globals()))"
      ],
      "metadata": {
        "colab": {
          "base_uri": "https://localhost:8080/"
        },
        "id": "jC6aa2Exhk-H",
        "outputId": "b876ffdb-821a-47a9-8466-f7350a017973"
      },
      "execution_count": null,
      "outputs": [
        {
          "output_type": "stream",
          "name": "stdout",
          "text": [
            "Время работы без numba:\n"
          ]
        }
      ]
    },
    {
      "cell_type": "code",
      "source": [
        "print(\"Время работы c numba:\")\n",
        "print(timeit.timeit(\"numbaGD.GD_Plot(SGD_Modification.MOMENT, numbaGD.Matias, numbaGD.Matias_dfdx, numbaGD.Matias_dfdy, 0.5, 0.5 )\", globals=globals()))"
      ],
      "metadata": {
        "id": "N2cWLOoLfn0v"
      },
      "execution_count": null,
      "outputs": []
    }
  ]
}