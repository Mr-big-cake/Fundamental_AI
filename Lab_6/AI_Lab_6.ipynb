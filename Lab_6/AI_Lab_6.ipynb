{
  "nbformat": 4,
  "nbformat_minor": 0,
  "metadata": {
    "colab": {
      "provenance": [],
      "collapsed_sections": [
        "4drST7mYhltd",
        "g8Kfj1oihtQm",
        "fiyV6ePGPAPF",
        "WTlc4wmZqDTx"
      ],
      "include_colab_link": true
    },
    "kernelspec": {
      "name": "python3",
      "display_name": "Python 3"
    },
    "language_info": {
      "name": "python"
    }
  },
  "cells": [
    {
      "cell_type": "markdown",
      "metadata": {
        "id": "view-in-github",
        "colab_type": "text"
      },
      "source": [
        "<a href=\"https://colab.research.google.com/github/Mr-big-cake/Fundamental_AI/blob/main/Lab_6/AI_Lab_6.ipynb\" target=\"_parent\"><img src=\"https://colab.research.google.com/assets/colab-badge.svg\" alt=\"Open In Colab\"/></a>"
      ]
    },
    {
      "cell_type": "markdown",
      "source": [
        "#ТЗ к Лабораторной работе №6:\n",
        "\n",
        "Реализовать интегрирование м. Монте-Карло (mpipy) для решения задачи семплирования в n-мерном пространстве, где алгоритм семплирования - м. Метраполиса-Гастингса."
      ],
      "metadata": {
        "id": "m37UWDe6hhBB"
      }
    },
    {
      "cell_type": "markdown",
      "source": [
        "##Импорт библиотек и вспомогательные функции "
      ],
      "metadata": {
        "id": "4drST7mYhltd"
      }
    },
    {
      "cell_type": "code",
      "execution_count": null,
      "metadata": {
        "colab": {
          "base_uri": "https://localhost:8080/"
        },
        "id": "5Wo-nH4lhbX8",
        "outputId": "9b770f7b-46e5-4cd5-9027-80beb360c86a"
      },
      "outputs": [
        {
          "output_type": "stream",
          "name": "stdout",
          "text": [
            "Looking in indexes: https://pypi.org/simple, https://us-python.pkg.dev/colab-wheels/public/simple/\n",
            "Requirement already satisfied: mpi4py in /usr/local/lib/python3.7/dist-packages (3.1.4)\n"
          ]
        }
      ],
      "source": [
        "!pip install mpi4py"
      ]
    },
    {
      "cell_type": "markdown",
      "source": [
        "##Решение: интегрирование м. Монте-Карло на плоскости (без mpi)"
      ],
      "metadata": {
        "id": "g8Kfj1oihtQm"
      }
    },
    {
      "cell_type": "code",
      "source": [
        "from typing import Mapping\n",
        "from scipy import random\n",
        "\n",
        "#подынтегральная функция\n",
        "def f(x):\n",
        "    return x\n",
        "\n",
        "#метод Монте-Карло на плоскости\n",
        "def MonteCarlo(f: Mapping, a: float = 0, b:float = 1, count: int = 1000) -> float:\n",
        "  return (b - a) / count * sum([f(random.uniform(a, b)) for i in range(count)])\n",
        "\n",
        "res = MonteCarlo(f)\n",
        "print(f\"Результат интегрирования методом Монте-Карло: {res}. Погрешность составляет: {abs((res - 1 / 2) / res)} %.\")"
      ],
      "metadata": {
        "colab": {
          "base_uri": "https://localhost:8080/"
        },
        "id": "DWiwq9hiL4h8",
        "outputId": "0e4596d2-c160-4bf5-ad51-5b713e2582eb"
      },
      "execution_count": null,
      "outputs": [
        {
          "output_type": "stream",
          "name": "stdout",
          "text": [
            "Результат интегрирования методом Монте-Карло: 0.4976237969101318. Погрешность составляет: 0.0047750993915938456 %.\n"
          ]
        }
      ]
    },
    {
      "cell_type": "markdown",
      "source": [
        "##Решение: интегрирование м. Монте-Карло на плоскости (файл task.py)\n",
        "\n",
        "Вычисление производилось на примере следующего интеграла:\n",
        "\n",
        "$$∫_0^1 {xdx}$$\n"
      ],
      "metadata": {
        "id": "fiyV6ePGPAPF"
      }
    },
    {
      "cell_type": "code",
      "source": [
        "from mpi4py import MPI\n",
        "import time\n",
        "import math\n",
        "from scipy import random\n",
        "\n",
        "#подынтегральная функция\n",
        "def f(x):\n",
        "    return x\n",
        "\n",
        "comm = MPI.COMM_WORLD\n",
        "rank = comm.Get_rank()\n",
        "size = comm.Get_size()\n",
        "\n",
        "#пределы интегрирования\n",
        "a = 0\n",
        "b = 1\n",
        "\n",
        "#вычисляемое значение каждым потоком\n",
        "data = f(random.uniform(a, b))\n",
        "\n",
        "#результат суммирования\n",
        "total = comm.reduce(data, op=MPI.SUM, root=0)\n",
        "\n",
        "if rank == 0:\n",
        "  data = (b - a) / size * total\n",
        "  print(f\"Значение интеграла на {size} ядрах: {data}.\\nПогрешность вычислений: {abs((data - 1/2) / data)} %.\")\n",
        "\n",
        "MPI.Finalize"
      ],
      "metadata": {
        "id": "A76XOtZNRq3a"
      },
      "execution_count": null,
      "outputs": []
    },
    {
      "cell_type": "markdown",
      "source": [
        "##Запуск"
      ],
      "metadata": {
        "id": "WTlc4wmZqDTx"
      }
    },
    {
      "cell_type": "code",
      "source": [
        "!mpirun -np 100 --allow-run-as-root python task.py"
      ],
      "metadata": {
        "id": "9qyI3kFVhttG",
        "colab": {
          "base_uri": "https://localhost:8080/"
        },
        "outputId": "6979f18c-4f9e-4356-b8c1-5709fb0577a4"
      },
      "execution_count": null,
      "outputs": [
        {
          "output_type": "stream",
          "name": "stdout",
          "text": [
            "Значение интеграла на 100 ядрах: 0.5135236304535793.\n",
            "Погрешность вычислений: 0.02633497204721484 %.\n"
          ]
        }
      ]
    }
  ]
}