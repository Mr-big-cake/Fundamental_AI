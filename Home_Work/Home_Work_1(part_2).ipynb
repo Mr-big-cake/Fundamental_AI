{
  "nbformat": 4,
  "nbformat_minor": 0,
  "metadata": {
    "colab": {
      "provenance": [],
      "collapsed_sections": [
        "8XOmF8iiSwSb",
        "IgIIa-aZUMhy",
        "xvz0Q6TvWaa3",
        "m1Pfn70fZ5Rm",
        "mnBgp5j9dj1Q"
      ],
      "authorship_tag": "ABX9TyOtnK77jntaSzd/If/cOi6w",
      "include_colab_link": true
    },
    "kernelspec": {
      "name": "python3",
      "display_name": "Python 3"
    },
    "language_info": {
      "name": "python"
    }
  },
  "cells": [
    {
      "cell_type": "markdown",
      "metadata": {
        "id": "view-in-github",
        "colab_type": "text"
      },
      "source": [
        "<a href=\"https://colab.research.google.com/github/Mr-big-cake/Fundamental_AI/blob/main/Home_Work/Home_Work_1(part_2).ipynb\" target=\"_parent\"><img src=\"https://colab.research.google.com/assets/colab-badge.svg\" alt=\"Open In Colab\"/></a>"
      ]
    },
    {
      "cell_type": "code",
      "execution_count": null,
      "metadata": {
        "id": "-VBv73SNPSc1"
      },
      "outputs": [],
      "source": [
        "import numpy as np\n",
        "import pandas as pd\n",
        "\n",
        "%matplotlib inline"
      ]
    },
    {
      "cell_type": "code",
      "source": [
        "data = pd.read_csv(\"/content/Titanic.csv\", index_col=\"PassengerId\")"
      ],
      "metadata": {
        "id": "FcHujIEAPjDi"
      },
      "execution_count": null,
      "outputs": []
    },
    {
      "cell_type": "markdown",
      "source": [
        "#1. Сколько мужчин / женщин находилось на борту?\n",
        "\n",
        "412 мужчин и 479 женщин  \n",
        "314 мужчин и 577 женщин  \n",
        "479 мужчин и 412 женщин  \n",
        "577 мужчин и 314 женщин  "
      ],
      "metadata": {
        "id": "8XOmF8iiSwSb"
      }
    },
    {
      "cell_type": "code",
      "source": [
        "count_female = len(data[data[\"Sex\"]== \"female\"])\n",
        "count_male = len(data[data[\"Sex\"]== \"male\"])\n",
        "print(\"Кол-во женщин: \", count_female)\n",
        "print(\"Кол-во мужчин: \", count_male)"
      ],
      "metadata": {
        "colab": {
          "base_uri": "https://localhost:8080/"
        },
        "id": "uFhUXESkS0a9",
        "outputId": "054ca4d8-d83b-4836-d340-2c6c0d50416b"
      },
      "execution_count": null,
      "outputs": [
        {
          "output_type": "stream",
          "name": "stdout",
          "text": [
            "Кол-во женщин:  314\n",
            "Кол-во мужчин:  577\n"
          ]
        }
      ]
    },
    {
      "cell_type": "markdown",
      "source": [
        "#2. Выведите распределение переменной Pclass (социально-экономический статус) и это же распределение, только для мужчин / женщин по отдельности. Сколько было мужчин 2-го класса?\n",
        "\n",
        "104\n",
        "108\n",
        "112\n",
        "125"
      ],
      "metadata": {
        "id": "IgIIa-aZUMhy"
      }
    },
    {
      "cell_type": "code",
      "source": [
        "print(\"распределение Pclass\")\n",
        "pd.unique(data.Parch)"
      ],
      "metadata": {
        "colab": {
          "base_uri": "https://localhost:8080/"
        },
        "id": "6njbUt0uUWMN",
        "outputId": "02d916d0-4ca9-4b22-c6dc-cd2f719df49c"
      },
      "execution_count": null,
      "outputs": [
        {
          "output_type": "stream",
          "name": "stdout",
          "text": [
            "распределение Pclass\n"
          ]
        },
        {
          "output_type": "execute_result",
          "data": {
            "text/plain": [
              "array([0, 1, 2, 5, 3, 4, 6])"
            ]
          },
          "metadata": {},
          "execution_count": 18
        }
      ]
    },
    {
      "cell_type": "code",
      "source": [
        "print(\"распределение для женщин\")\n",
        "pd.unique((data[data[\"Sex\"]== \"female\"]).Parch)"
      ],
      "metadata": {
        "colab": {
          "base_uri": "https://localhost:8080/"
        },
        "id": "d5-OTTYRUXZM",
        "outputId": "a7a1307f-c584-4d27-c9e2-5eeeb445f6b5"
      },
      "execution_count": null,
      "outputs": [
        {
          "output_type": "stream",
          "name": "stdout",
          "text": [
            "распределение для женщин\n"
          ]
        },
        {
          "output_type": "execute_result",
          "data": {
            "text/plain": [
              "array([0, 2, 1, 5, 4, 3, 6])"
            ]
          },
          "metadata": {},
          "execution_count": 19
        }
      ]
    },
    {
      "cell_type": "code",
      "source": [
        "print(\"распределение для мужчин\")\n",
        "pd.unique((data[data[\"Sex\"]== \"male\"]).Parch)"
      ],
      "metadata": {
        "colab": {
          "base_uri": "https://localhost:8080/"
        },
        "id": "u3SqC2lJVFU4",
        "outputId": "1c8edfdf-c44d-459e-c300-8a987fd40af9"
      },
      "execution_count": null,
      "outputs": [
        {
          "output_type": "stream",
          "name": "stdout",
          "text": [
            "распределение для мужчин\n"
          ]
        },
        {
          "output_type": "execute_result",
          "data": {
            "text/plain": [
              "array([0, 1, 5, 2, 3, 4])"
            ]
          },
          "metadata": {},
          "execution_count": 20
        }
      ]
    },
    {
      "cell_type": "code",
      "source": [
        "print(\"кол-вто мужчин 2ого класса: \")\n",
        "len(data[(data['Sex'] == 'male') & (data['Pclass'] == 2)])"
      ],
      "metadata": {
        "colab": {
          "base_uri": "https://localhost:8080/"
        },
        "id": "bVJ5h4F4TFY-",
        "outputId": "eee690de-ae8b-4d9e-b324-a5207d00aac4"
      },
      "execution_count": null,
      "outputs": [
        {
          "output_type": "stream",
          "name": "stdout",
          "text": [
            "кол-вто мужчин 2ого класса: \n"
          ]
        },
        {
          "output_type": "execute_result",
          "data": {
            "text/plain": [
              "108"
            ]
          },
          "metadata": {},
          "execution_count": 27
        }
      ]
    },
    {
      "cell_type": "markdown",
      "source": [
        "#3. Каковы медиана и стандартное отклонение платежей (Fare)? Округлите до 2 десятичных знаков."
      ],
      "metadata": {
        "id": "xvz0Q6TvWaa3"
      }
    },
    {
      "cell_type": "code",
      "source": [
        "print(\"стандартное оклонение\")\n",
        "round(np.std( data[\"Fare\"]), 2)"
      ],
      "metadata": {
        "colab": {
          "base_uri": "https://localhost:8080/"
        },
        "id": "U-PBgWvMV4Rj",
        "outputId": "75d1450a-684f-4e0b-9d4f-807ffec86131"
      },
      "execution_count": null,
      "outputs": [
        {
          "output_type": "stream",
          "name": "stdout",
          "text": [
            "стандартное оклонение\n"
          ]
        },
        {
          "output_type": "execute_result",
          "data": {
            "text/plain": [
              "49.67"
            ]
          },
          "metadata": {},
          "execution_count": 30
        }
      ]
    },
    {
      "cell_type": "code",
      "source": [
        "print(\"медиана\")\n",
        "round(np.median( data[\"Fare\"]), 2)"
      ],
      "metadata": {
        "colab": {
          "base_uri": "https://localhost:8080/"
        },
        "id": "O3OpKl8aXRW_",
        "outputId": "c5e57905-ca5c-4ca5-b236-c7f2380f3ad1"
      },
      "execution_count": null,
      "outputs": [
        {
          "output_type": "stream",
          "name": "stdout",
          "text": [
            "медиана\n"
          ]
        },
        {
          "output_type": "execute_result",
          "data": {
            "text/plain": [
              "14.45"
            ]
          },
          "metadata": {},
          "execution_count": 31
        }
      ]
    },
    {
      "cell_type": "markdown",
      "source": [
        "#4. Правда ли, что люди моложе 30 лет выживали чаще, чем люди старше 60 лет? Каковы доли выживших в обеих группах?"
      ],
      "metadata": {
        "id": "m1Pfn70fZ5Rm"
      }
    },
    {
      "cell_type": "code",
      "source": [
        "print(\"Правда ли, что люди моложе 30 лет выживали чаще, чем люди старше 60 лет?\")\n",
        "len(data[(data[\"Age\"] < 30) & (data[\"Survived\"] == 1) ]) > len(data[(data[\"Age\"] > 60) & (data[\"Survived\"] == 1) ])"
      ],
      "metadata": {
        "colab": {
          "base_uri": "https://localhost:8080/"
        },
        "id": "cuo-cEy9Z-qt",
        "outputId": "d37a3d91-389f-4db9-b358-76dbb0664c5c"
      },
      "execution_count": null,
      "outputs": [
        {
          "output_type": "stream",
          "name": "stdout",
          "text": [
            "Правда ли, что люди моложе 30 лет выживали чаще, чем люди старше 60 лет?\n"
          ]
        },
        {
          "output_type": "execute_result",
          "data": {
            "text/plain": [
              "True"
            ]
          },
          "metadata": {},
          "execution_count": 36
        }
      ]
    },
    {
      "cell_type": "code",
      "source": [
        "print(\"Каковы доли выживших в 1 группе?\")\n",
        "len(data[(data[\"Age\"] < 30) & (data[\"Survived\"] == 1) ]) / len(data[(data[\"Age\"] < 30)])"
      ],
      "metadata": {
        "colab": {
          "base_uri": "https://localhost:8080/"
        },
        "id": "mr91DkD8dHck",
        "outputId": "bc52c675-36fd-4a73-cafa-e8181b9cd471"
      },
      "execution_count": null,
      "outputs": [
        {
          "output_type": "stream",
          "name": "stdout",
          "text": [
            "Каковы доли выживших в 1 группе?\n"
          ]
        },
        {
          "output_type": "execute_result",
          "data": {
            "text/plain": [
              "0.40625"
            ]
          },
          "metadata": {},
          "execution_count": 38
        }
      ]
    },
    {
      "cell_type": "code",
      "source": [
        "print(\"Каковы доли выживших в 2 группе?\")\n",
        "len(data[(data[\"Age\"] > 60) & (data[\"Survived\"] == 1) ]) / len(data[(data[\"Age\"] > 60)])"
      ],
      "metadata": {
        "colab": {
          "base_uri": "https://localhost:8080/"
        },
        "id": "K2IMR34BdQn_",
        "outputId": "499e723a-a664-4ff3-c73c-4cac17829e23"
      },
      "execution_count": null,
      "outputs": [
        {
          "output_type": "stream",
          "name": "stdout",
          "text": [
            "Каковы доли выживших в 2 группе?\n"
          ]
        },
        {
          "output_type": "execute_result",
          "data": {
            "text/plain": [
              "0.22727272727272727"
            ]
          },
          "metadata": {},
          "execution_count": 40
        }
      ]
    },
    {
      "cell_type": "markdown",
      "source": [
        "# 5. Правда ли, что женщины выживали чаще мужчин? Каковы доли выживших в обеих группах?"
      ],
      "metadata": {
        "id": "mnBgp5j9dj1Q"
      }
    },
    {
      "cell_type": "code",
      "source": [
        "print(\"Правда ли, что женщины выживали чаще мужчин? \")\n",
        "len(data[(data[\"Sex\"] == \"female\") & (data[\"Survived\"] == 1) ]) > len(data[(data[\"Sex\"] == \"male\") & (data[\"Survived\"] == 1) ])"
      ],
      "metadata": {
        "colab": {
          "base_uri": "https://localhost:8080/"
        },
        "id": "lcTOppgKdm6X",
        "outputId": "94470ff5-b10b-4c5b-d60b-318c1e927fcc"
      },
      "execution_count": null,
      "outputs": [
        {
          "output_type": "stream",
          "name": "stdout",
          "text": [
            "Правда ли, что женщины выживали чаще мужчин? \n"
          ]
        },
        {
          "output_type": "execute_result",
          "data": {
            "text/plain": [
              "True"
            ]
          },
          "metadata": {},
          "execution_count": 41
        }
      ]
    },
    {
      "cell_type": "code",
      "source": [
        "print(\"Каковы доли выживших в 1 группе?\")\n",
        "len(data[(data[\"Sex\"] == \"female\") & (data[\"Survived\"] == 1) ])/len(data[(data[\"Sex\"] == \"female\") ])"
      ],
      "metadata": {
        "colab": {
          "base_uri": "https://localhost:8080/"
        },
        "id": "_WRT6KpaeCXc",
        "outputId": "3347fe71-102a-48c2-84cf-4c51c2e193a1"
      },
      "execution_count": null,
      "outputs": [
        {
          "output_type": "stream",
          "name": "stdout",
          "text": [
            "Каковы доли выживших в 1 группе?\n"
          ]
        },
        {
          "output_type": "execute_result",
          "data": {
            "text/plain": [
              "0.7420382165605095"
            ]
          },
          "metadata": {},
          "execution_count": 42
        }
      ]
    },
    {
      "cell_type": "code",
      "source": [
        "print(\"Каковы доли выживших в 2 группе?\")\n",
        "len(data[(data[\"Sex\"] == \"male\") & (data[\"Survived\"] == 1) ])/len(data[(data[\"Sex\"] == \"male\")])"
      ],
      "metadata": {
        "colab": {
          "base_uri": "https://localhost:8080/"
        },
        "id": "0wnDXtFueHoG",
        "outputId": "09181422-2a5b-4775-b0bd-868e711fd7fb"
      },
      "execution_count": null,
      "outputs": [
        {
          "output_type": "stream",
          "name": "stdout",
          "text": [
            "Каковы доли выживших в 2 группе?\n"
          ]
        },
        {
          "output_type": "execute_result",
          "data": {
            "text/plain": [
              "0.18890814558058924"
            ]
          },
          "metadata": {},
          "execution_count": 43
        }
      ]
    },
    {
      "cell_type": "markdown",
      "source": [
        "# 6. Найдите самое популярное имя среди пассажиров Титаника мужского пола?"
      ],
      "metadata": {
        "id": "Uh6hxPVjeUS8"
      }
    },
    {
      "cell_type": "code",
      "source": [
        "names = (np.unique((data[data['Sex'] == 'male'])[\"Name\"])).tolist()\n",
        "for i in range(len(names)):\n",
        "  split_name = names[i].split()\n",
        "  names[i] = split_name[len(split_name) - 1]\n",
        "names_dictionary = dict.fromkeys(names, 0)\n",
        "list_name = sub_data['Name'].tolist()\n",
        "for i in range(len(list_name)):\n",
        "  split_name = names[i].split()\n",
        "  list_name[i] = split_name[len(split_name) - 1]\\\n",
        "\n",
        "for i in range(len(list_name)):\n",
        "  names_dictionary[list_name[i]] += 1\n",
        "max_val = max(names_dictionary.values())\n",
        "final_dict = {k:v for k, v in names_dictionary.items() if v == max_val}"
      ],
      "metadata": {
        "id": "eQL56nScuQtM"
      },
      "execution_count": null,
      "outputs": []
    },
    {
      "cell_type": "code",
      "source": [
        "print(\"Самое популярное мужское имя: \",final_dict)"
      ],
      "metadata": {
        "colab": {
          "base_uri": "https://localhost:8080/"
        },
        "id": "q32o3eKLxSoM",
        "outputId": "82f7520f-66b6-4b5a-a6e4-e58ae94beb3a"
      },
      "execution_count": null,
      "outputs": [
        {
          "output_type": "stream",
          "name": "stdout",
          "text": [
            "Самое популярное мужское имя:  {'John': 16}\n"
          ]
        }
      ]
    },
    {
      "cell_type": "markdown",
      "source": [
        "# 7. Сравните графически распределение стоимости билетов и возраста у спасенных и у погибших. Средний возраст погибших выше, верно?"
      ],
      "metadata": {
        "id": "HPlo_yFanj5u"
      }
    },
    {
      "cell_type": "code",
      "source": [
        "import matplotlib.pyplot as plt\n",
        "Survive_data = data[data['Survived'] == 1]\n",
        "Not_Survive_data = data[data['Survived'] == 0]\n",
        "\n",
        "list_Survive_age = Survive_data[\"Age\"].tolist()\n",
        "list_Not_Survive_age = Not_Survive_data[\"Age\"].tolist()\n",
        "\n",
        "list_Survive_fare = Survive_data[\"Fare\"].tolist()\n",
        "list_Not_Survive_fare = Not_Survive_data[\"Fare\"].tolist()\n",
        "size = len(list_Survive_age)\n",
        "\n",
        "plt.figure(figsize=(12, 7))\n",
        "print(\"Рапрседеление стоимости билетов и возраста у спасенных\")\n",
        "for i in range(size):\n",
        "  plt.scatter(list_Survive_age[i], list_Survive_fare[i])"
      ],
      "metadata": {
        "colab": {
          "base_uri": "https://localhost:8080/",
          "height": 445
        },
        "outputId": "2088f501-8699-45cd-ffdd-64da1158cf37",
        "id": "A_mPq8Fczocb"
      },
      "execution_count": 21,
      "outputs": [
        {
          "output_type": "stream",
          "name": "stdout",
          "text": [
            "Рапрседеление стоимости билетов и возраста у спасенных\n"
          ]
        },
        {
          "output_type": "display_data",
          "data": {
            "text/plain": [
              "<Figure size 864x504 with 1 Axes>"
            ],
            "image/png": "[encoded data removed]"
          },
          "metadata": {
            "needs_background": "light"
          }
        }
      ]
    },
    {
      "cell_type": "code",
      "source": [
        "plt.figure(figsize=(12, 7))\n",
        "print(\"Рапрседеление стоимости билетов и возраста у погибших\")\n",
        "for i in range(size):\n",
        "  plt.scatter(list_Not_Survive_age[i], list_Not_Survive_fare[i])"
      ],
      "metadata": {
        "colab": {
          "base_uri": "https://localhost:8080/",
          "height": 445
        },
        "id": "-a9gjvPW1Uku",
        "outputId": "9bd44c3f-26ef-465c-d6aa-17755eaf9e07"
      },
      "execution_count": 22,
      "outputs": [
        {
          "output_type": "stream",
          "name": "stdout",
          "text": [
            "Рапрседеление стоимости билетов и возраста у погибших\n"
          ]
        },
        {
          "output_type": "display_data",
          "data": {
            "text/plain": [
              "<Figure size 864x504 with 1 Axes>"
            ],
            "image/png": "[encoded data removed]"
          },
          "metadata": {
            "needs_background": "light"
          }
        }
      ]
    },
    {
      "cell_type": "code",
      "source": [
        "print(\"Средний возраст погибших выше, верно?\")\n",
        "np.mean(data[(data[\"Survived\"] == 0)].Age) > np.mean(data[(data[\"Survived\"] == 1)].Age)"
      ],
      "metadata": {
        "colab": {
          "base_uri": "https://localhost:8080/"
        },
        "id": "tQctmWtoqhU9",
        "outputId": "8972437f-f0bd-477c-ff2e-ef9b9a8ce047"
      },
      "execution_count": 23,
      "outputs": [
        {
          "output_type": "stream",
          "name": "stdout",
          "text": [
            "Средний возраст погибших выше, верно?\n"
          ]
        },
        {
          "output_type": "execute_result",
          "data": {
            "text/plain": [
              "True"
            ]
          },
          "metadata": {},
          "execution_count": 23
        }
      ]
    },
    {
      "cell_type": "markdown",
      "source": [
        "#8. Как отличается средний возраст мужчин / женщин в зависимости от класса обслуживания? Выберите верные утверждения:"
      ],
      "metadata": {
        "id": "KOGtapgPq69K"
      }
    },
    {
      "cell_type": "code",
      "source": [
        "print('В среднем мужчины 1-го класса старше 40 лет')\n",
        "np.mean(data[(data[\"Sex\"] == \"male\") & (data[\"Pclass\"] == 1)][\"Age\"]) > 40"
      ],
      "metadata": {
        "colab": {
          "base_uri": "https://localhost:8080/"
        },
        "id": "lc9u1jTnq5-0",
        "outputId": "540e2def-547f-46b0-948a-82073830b6c5"
      },
      "execution_count": null,
      "outputs": [
        {
          "output_type": "stream",
          "name": "stdout",
          "text": [
            "В среднем мужчины 1-го класса старше 40 лет\n"
          ]
        },
        {
          "output_type": "execute_result",
          "data": {
            "text/plain": [
              "True"
            ]
          },
          "metadata": {},
          "execution_count": 7
        }
      ]
    },
    {
      "cell_type": "code",
      "source": [
        "print('В среднем женщины 1-го класса старше 40 лет')\n",
        "np.mean(data[(data[\"Sex\"] == \"female\") & (data[\"Pclass\"] == 1)][\"Age\"]) > 40"
      ],
      "metadata": {
        "colab": {
          "base_uri": "https://localhost:8080/"
        },
        "id": "5XG8robSrqyv",
        "outputId": "b19af683-a9b8-4004-d3a9-023c7493e9c7"
      },
      "execution_count": null,
      "outputs": [
        {
          "output_type": "stream",
          "name": "stdout",
          "text": [
            "В среднем женщины 1-го класса старше 40 лет\n"
          ]
        },
        {
          "output_type": "execute_result",
          "data": {
            "text/plain": [
              "False"
            ]
          },
          "metadata": {},
          "execution_count": 8
        }
      ]
    },
    {
      "cell_type": "code",
      "source": [
        "print(\"Мужчины всех классов в среднем старше женщин того же класса\")\n",
        "np.mean(data[(data[\"Sex\"] == \"male\")][\"Age\"]) > np.mean(data[(data[\"Sex\"] == \"female\")][\"Age\"])"
      ],
      "metadata": {
        "colab": {
          "base_uri": "https://localhost:8080/"
        },
        "id": "BPnKFkx4ryGC",
        "outputId": "40597038-b361-4758-f9a6-d44be0e778aa"
      },
      "execution_count": null,
      "outputs": [
        {
          "output_type": "stream",
          "name": "stdout",
          "text": [
            "Мужчины всех классов в среднем старше женщин того же класса\n"
          ]
        },
        {
          "output_type": "execute_result",
          "data": {
            "text/plain": [
              "True"
            ]
          },
          "metadata": {},
          "execution_count": 9
        }
      ]
    },
    {
      "cell_type": "code",
      "source": [
        "print(\"В среднем люди в 1 классе старше, чем во 2-ом, а те старше представителей 3-го класса\")\n",
        "np.mean(data[(data[\"Pclass\"] == 1)][\"Age\"]) > np.mean(data[(data[\"Pclass\"] == 2)][\"Age\"]) > np.mean(data[(data[\"Pclass\"] == 3)][\"Age\"])"
      ],
      "metadata": {
        "colab": {
          "base_uri": "https://localhost:8080/"
        },
        "id": "ncIrx6hHr_wY",
        "outputId": "e6c32401-bf5c-4835-d7cc-68e923a76b3a"
      },
      "execution_count": null,
      "outputs": [
        {
          "output_type": "stream",
          "name": "stdout",
          "text": [
            "В среднем люди в 1 классе старше, чем во 2-ом, а те старше представителей 3-го класса\n"
          ]
        },
        {
          "output_type": "execute_result",
          "data": {
            "text/plain": [
              "True"
            ]
          },
          "metadata": {},
          "execution_count": 10
        }
      ]
    }
  ]
}