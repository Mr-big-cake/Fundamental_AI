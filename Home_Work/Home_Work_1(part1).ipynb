{
  "nbformat": 4,
  "nbformat_minor": 0,
  "metadata": {
    "colab": {
      "provenance": [],
      "collapsed_sections": [
        "N0BwvhjCdH7B",
        "EL8aQMcadLg8",
        "fZNsQkqOdZgI",
        "nIIM5v1efWQ8",
        "45_WYctpmZav",
        "J-Tk9e57m2cU",
        "SMMD-Aipoi91",
        "TIEcdj5Co6Vh",
        "31HqTac-p8f0",
        "_wmEw0SdqcBB",
        "-3Uw7leVrIDS",
        "Sj9b5Owara5e",
        "wxdCecEvr_le",
        "FSytoT2Psazr",
        "nQtIX8jzssy4",
        "zuxpnY5ztrWr",
        "ZhdTDOZzwYn6",
        "f2kXuYIXx6_j",
        "z3Z2JsUXyPbK",
        "DdVcr6VHzcx_",
        "VBr2jK-K1FKm",
        "iwhlrM441ybM",
        "PJ_wVwx74p9J",
        "GBs_3aP35RA2",
        "1aBw0gL97ry-",
        "ss86hrwJ-tdg",
        "HyUkQZ-1--86",
        "gZkK2-JO_v3x",
        "QAOuzwOV_8ZY",
        "yYGbCwicAb6f",
        "8YMf0qhrAuJi",
        "lIQjV0fzA5g3",
        "w0t4-nw2BCLZ",
        "_EVM0c_3CFHj",
        "HGPqzJu8CUzL",
        "vkXQgto3C9ST",
        "S8yFIWEWHEkV",
        "oKn6hCmDHj-M"
      ],
      "authorship_tag": "ABX9TyM73FPHIA6fnm+rOWrRomGM",
      "include_colab_link": true
    },
    "kernelspec": {
      "name": "python3",
      "display_name": "Python 3"
    },
    "language_info": {
      "name": "python"
    }
  },
  "cells": [
    {
      "cell_type": "markdown",
      "metadata": {
        "id": "view-in-github",
        "colab_type": "text"
      },
      "source": [
        "<a href=\"https://colab.research.google.com/github/Mr-big-cake/Fundamental_AI/blob/main/Home_Work_1(part1).ipynb\" target=\"_parent\"><img src=\"https://colab.research.google.com/assets/colab-badge.svg\" alt=\"Open In Colab\"/></a>"
      ]
    },
    {
      "cell_type": "markdown",
      "source": [
        "#1.1 Импортировать NumPy под именем np"
      ],
      "metadata": {
        "id": "N0BwvhjCdH7B"
      }
    },
    {
      "cell_type": "code",
      "execution_count": null,
      "metadata": {
        "id": "lzKkpavmbtd3"
      },
      "outputs": [],
      "source": [
        "import numpy as np"
      ]
    },
    {
      "cell_type": "markdown",
      "source": [
        "#1.2 Напечатать версию и конфигурацию"
      ],
      "metadata": {
        "id": "EL8aQMcadLg8"
      }
    },
    {
      "cell_type": "code",
      "source": [
        "print(np.__version__)\n",
        "print(np.show_config())"
      ],
      "metadata": {
        "colab": {
          "base_uri": "https://localhost:8080/"
        },
        "id": "daJSaUL2dLE_",
        "outputId": "f0e7044c-648d-47c3-b92b-98a608b791f5"
      },
      "execution_count": null,
      "outputs": [
        {
          "output_type": "stream",
          "name": "stdout",
          "text": [
            "1.21.6\n",
            "blas_mkl_info:\n",
            "  NOT AVAILABLE\n",
            "blis_info:\n",
            "  NOT AVAILABLE\n",
            "openblas_info:\n",
            "    libraries = ['openblas', 'openblas']\n",
            "    library_dirs = ['/usr/local/lib']\n",
            "    language = c\n",
            "    define_macros = [('HAVE_CBLAS', None)]\n",
            "    runtime_library_dirs = ['/usr/local/lib']\n",
            "blas_opt_info:\n",
            "    libraries = ['openblas', 'openblas']\n",
            "    library_dirs = ['/usr/local/lib']\n",
            "    language = c\n",
            "    define_macros = [('HAVE_CBLAS', None)]\n",
            "    runtime_library_dirs = ['/usr/local/lib']\n",
            "lapack_mkl_info:\n",
            "  NOT AVAILABLE\n",
            "openblas_lapack_info:\n",
            "    libraries = ['openblas', 'openblas']\n",
            "    library_dirs = ['/usr/local/lib']\n",
            "    language = c\n",
            "    define_macros = [('HAVE_CBLAS', None)]\n",
            "    runtime_library_dirs = ['/usr/local/lib']\n",
            "lapack_opt_info:\n",
            "    libraries = ['openblas', 'openblas']\n",
            "    library_dirs = ['/usr/local/lib']\n",
            "    language = c\n",
            "    define_macros = [('HAVE_CBLAS', None)]\n",
            "    runtime_library_dirs = ['/usr/local/lib']\n",
            "Supported SIMD extensions in this NumPy install:\n",
            "    baseline = SSE,SSE2,SSE3\n",
            "    found = SSSE3,SSE41,POPCNT,SSE42,AVX,F16C,FMA3,AVX2\n",
            "    not found = AVX512F,AVX512CD,AVX512_KNL,AVX512_KNM,AVX512_SKX,AVX512_CLX,AVX512_CNL,AVX512_ICL\n",
            "None\n"
          ]
        }
      ]
    },
    {
      "cell_type": "markdown",
      "source": [
        "#1.3 Создать вектор (одномерный массив) размера 10, заполненный нулями"
      ],
      "metadata": {
        "id": "fZNsQkqOdZgI"
      }
    },
    {
      "cell_type": "code",
      "source": [
        "vector = np.full((10, ), 0)\n",
        "vector"
      ],
      "metadata": {
        "colab": {
          "base_uri": "https://localhost:8080/"
        },
        "id": "gxGlFAyXdYy9",
        "outputId": "5c03e3ff-a644-4fe0-e6b5-682040bd7f1c"
      },
      "execution_count": null,
      "outputs": [
        {
          "output_type": "execute_result",
          "data": {
            "text/plain": [
              "array([0, 0, 0, 0, 0, 0, 0, 0, 0, 0])"
            ]
          },
          "metadata": {},
          "execution_count": 9
        }
      ]
    },
    {
      "cell_type": "markdown",
      "source": [
        "#1.4 Как найти размер памяти любого массива"
      ],
      "metadata": {
        "id": "nIIM5v1efWQ8"
      }
    },
    {
      "cell_type": "code",
      "source": [
        "print(vector.__sizeof__())"
      ],
      "metadata": {
        "colab": {
          "base_uri": "https://localhost:8080/"
        },
        "id": "FEzLzsn1fWjk",
        "outputId": "8300a78b-4db5-4a5c-f34a-2f34c0d6f3a3"
      },
      "execution_count": null,
      "outputs": [
        {
          "output_type": "stream",
          "name": "stdout",
          "text": [
            "184\n"
          ]
        }
      ]
    },
    {
      "cell_type": "markdown",
      "source": [
        "#1.5 Как получить документацию функции добавления из командной строки?"
      ],
      "metadata": {
        "id": "45_WYctpmZav"
      }
    },
    {
      "cell_type": "code",
      "source": [
        "import numpy as np\n",
        "print(np.info(np.add))"
      ],
      "metadata": {
        "colab": {
          "base_uri": "https://localhost:8080/"
        },
        "id": "p3Fk1feQmYzp",
        "outputId": "d3f11b06-b854-46ac-f0be-64be9c8663b8"
      },
      "execution_count": null,
      "outputs": [
        {
          "output_type": "stream",
          "name": "stdout",
          "text": [
            "add(x1, x2, /, out=None, *, where=True, casting='same_kind', order='K', dtype=None, subok=True[, signature, extobj])\n",
            "\n",
            "Add arguments element-wise.\n",
            "\n",
            "Parameters\n",
            "----------\n",
            "x1, x2 : array_like\n",
            "    The arrays to be added.\n",
            "    If ``x1.shape != x2.shape``, they must be broadcastable to a common\n",
            "    shape (which becomes the shape of the output).\n",
            "out : ndarray, None, or tuple of ndarray and None, optional\n",
            "    A location into which the result is stored. If provided, it must have\n",
            "    a shape that the inputs broadcast to. If not provided or None,\n",
            "    a freshly-allocated array is returned. A tuple (possible only as a\n",
            "    keyword argument) must have length equal to the number of outputs.\n",
            "where : array_like, optional\n",
            "    This condition is broadcast over the input. At locations where the\n",
            "    condition is True, the `out` array will be set to the ufunc result.\n",
            "    Elsewhere, the `out` array will retain its original value.\n",
            "    Note that if an uninitialized `out` array is created via the default\n",
            "    ``out=None``, locations within it where the condition is False will\n",
            "    remain uninitialized.\n",
            "**kwargs\n",
            "    For other keyword-only arguments, see the\n",
            "    :ref:`ufunc docs <ufuncs.kwargs>`.\n",
            "\n",
            "Returns\n",
            "-------\n",
            "add : ndarray or scalar\n",
            "    The sum of `x1` and `x2`, element-wise.\n",
            "    This is a scalar if both `x1` and `x2` are scalars.\n",
            "\n",
            "Notes\n",
            "-----\n",
            "Equivalent to `x1` + `x2` in terms of array broadcasting.\n",
            "\n",
            "Examples\n",
            "--------\n",
            ">>> np.add(1.0, 4.0)\n",
            "5.0\n",
            ">>> x1 = np.arange(9.0).reshape((3, 3))\n",
            ">>> x2 = np.arange(3.0)\n",
            ">>> np.add(x1, x2)\n",
            "array([[  0.,   2.,   4.],\n",
            "       [  3.,   5.,   7.],\n",
            "       [  6.,   8.,  10.]])\n",
            "\n",
            "The ``+`` operator can be used as a shorthand for ``np.add`` on ndarrays.\n",
            "\n",
            ">>> x1 = np.arange(9.0).reshape((3, 3))\n",
            ">>> x2 = np.arange(3.0)\n",
            ">>> x1 + x2\n",
            "array([[ 0.,  2.,  4.],\n",
            "       [ 3.,  5.,  7.],\n",
            "       [ 6.,  8., 10.]])\n",
            "None\n"
          ]
        }
      ]
    },
    {
      "cell_type": "markdown",
      "source": [
        "#1.6 Создать нулевой вектор размером 10, но пятое значение, которое равно 1"
      ],
      "metadata": {
        "id": "J-Tk9e57m2cU"
      }
    },
    {
      "cell_type": "code",
      "source": [
        "vector = np.full((10,), 0)\n",
        "vector[5] = 1\n",
        "vector"
      ],
      "metadata": {
        "colab": {
          "base_uri": "https://localhost:8080/"
        },
        "id": "7I7tOEJxm6KQ",
        "outputId": "d0fe5cef-c027-499c-a2e3-e65f6ae4d9f7"
      },
      "execution_count": null,
      "outputs": [
        {
          "output_type": "execute_result",
          "data": {
            "text/plain": [
              "array([0, 0, 0, 0, 0, 1, 0, 0, 0, 0])"
            ]
          },
          "metadata": {},
          "execution_count": 18
        }
      ]
    },
    {
      "cell_type": "markdown",
      "source": [
        "#1.7 Создать вектор с значениями от 10 до 49"
      ],
      "metadata": {
        "id": "SMMD-Aipoi91"
      }
    },
    {
      "cell_type": "code",
      "source": [
        "vector = np.arange(10, 49+1)\n",
        "vector"
      ],
      "metadata": {
        "colab": {
          "base_uri": "https://localhost:8080/"
        },
        "id": "eY-yjz0tosfv",
        "outputId": "e598061f-3d6b-4260-e417-a45428a008ef"
      },
      "execution_count": null,
      "outputs": [
        {
          "output_type": "execute_result",
          "data": {
            "text/plain": [
              "array([10, 11, 12, 13, 14, 15, 16, 17, 18, 19, 20, 21, 22, 23, 24, 25, 26,\n",
              "       27, 28, 29, 30, 31, 32, 33, 34, 35, 36, 37, 38, 39, 40, 41, 42, 43,\n",
              "       44, 45, 46, 47, 48, 49])"
            ]
          },
          "metadata": {},
          "execution_count": 20
        }
      ]
    },
    {
      "cell_type": "markdown",
      "source": [
        "#1.8 Обратить вектор (первый элемент становится последним)"
      ],
      "metadata": {
        "id": "TIEcdj5Co6Vh"
      }
    },
    {
      "cell_type": "code",
      "source": [
        "vector = vector[::-1]\n",
        "vector"
      ],
      "metadata": {
        "colab": {
          "base_uri": "https://localhost:8080/"
        },
        "id": "YEQcnAtPo_r8",
        "outputId": "11ee9be8-dfda-4fdf-b2fb-4eabb2a4aa99"
      },
      "execution_count": null,
      "outputs": [
        {
          "output_type": "execute_result",
          "data": {
            "text/plain": [
              "array([49, 48, 47, 46, 45, 44, 43, 42, 41, 40, 39, 38, 37, 36, 35, 34, 33,\n",
              "       32, 31, 30, 29, 28, 27, 26, 25, 24, 23, 22, 21, 20, 19, 18, 17, 16,\n",
              "       15, 14, 13, 12, 11, 10])"
            ]
          },
          "metadata": {},
          "execution_count": 21
        }
      ]
    },
    {
      "cell_type": "markdown",
      "source": [
        "#1.9 Создайте матрицу 3x3 со значениями от 0 до 8"
      ],
      "metadata": {
        "id": "31HqTac-p8f0"
      }
    },
    {
      "cell_type": "code",
      "source": [
        "mtx = np.arange(9).reshape(3,3)\n",
        "mtx"
      ],
      "metadata": {
        "colab": {
          "base_uri": "https://localhost:8080/"
        },
        "id": "Jv38EaDCqBYt",
        "outputId": "09620dd4-7285-4193-f8a7-27001b06882e"
      },
      "execution_count": null,
      "outputs": [
        {
          "output_type": "execute_result",
          "data": {
            "text/plain": [
              "array([[0, 1, 2],\n",
              "       [3, 4, 5],\n",
              "       [6, 7, 8]])"
            ]
          },
          "metadata": {},
          "execution_count": 22
        }
      ]
    },
    {
      "cell_type": "markdown",
      "source": [
        "#1.10 Найти индексы ненулевых элементов от [1,2,0,0,4,0]"
      ],
      "metadata": {
        "id": "_wmEw0SdqcBB"
      }
    },
    {
      "cell_type": "code",
      "source": [
        "vector = np.nonzero([1,2,0,0,4,0])\n",
        "vector[0]"
      ],
      "metadata": {
        "colab": {
          "base_uri": "https://localhost:8080/"
        },
        "id": "dNfJfNU9qhNH",
        "outputId": "b86754ed-2182-4644-f937-c02538cdf90b"
      },
      "execution_count": null,
      "outputs": [
        {
          "output_type": "execute_result",
          "data": {
            "text/plain": [
              "array([0, 1, 4])"
            ]
          },
          "metadata": {},
          "execution_count": 25
        }
      ]
    },
    {
      "cell_type": "markdown",
      "source": [
        "#1.11 Создать 3x3 единичную матрицу"
      ],
      "metadata": {
        "id": "-3Uw7leVrIDS"
      }
    },
    {
      "cell_type": "code",
      "source": [
        "mtx = np.full((3, 3), 1)\n",
        "mtx"
      ],
      "metadata": {
        "colab": {
          "base_uri": "https://localhost:8080/"
        },
        "id": "W9zLFPmprQrW",
        "outputId": "3d8231ac-9706-4de0-9bef-bd4a2a567b17"
      },
      "execution_count": null,
      "outputs": [
        {
          "output_type": "execute_result",
          "data": {
            "text/plain": [
              "array([[1, 1, 1],\n",
              "       [1, 1, 1],\n",
              "       [1, 1, 1]])"
            ]
          },
          "metadata": {},
          "execution_count": 26
        }
      ]
    },
    {
      "cell_type": "markdown",
      "source": [
        "#1.12 Создать массив 3x3x3 со случайными значениями"
      ],
      "metadata": {
        "id": "Sj9b5Owara5e"
      }
    },
    {
      "cell_type": "code",
      "source": [
        "arr = np.random.random((3,3,3))\n",
        "arr"
      ],
      "metadata": {
        "colab": {
          "base_uri": "https://localhost:8080/"
        },
        "id": "uyX39c8Mrv5M",
        "outputId": "8e213dca-4148-4f13-aac5-3ed557f5ee04"
      },
      "execution_count": null,
      "outputs": [
        {
          "output_type": "execute_result",
          "data": {
            "text/plain": [
              "array([[[0.5732847 , 0.48131336, 0.25468403],\n",
              "        [0.2616302 , 0.6671378 , 0.62890781],\n",
              "        [0.23121803, 0.2341345 , 0.61122793]],\n",
              "\n",
              "       [[0.41759423, 0.81964902, 0.10628356],\n",
              "        [0.42538648, 0.15935865, 0.48647402],\n",
              "        [0.62718968, 0.26049119, 0.31579907]],\n",
              "\n",
              "       [[0.62888947, 0.04736868, 0.90316334],\n",
              "        [0.21373097, 0.07670879, 0.93598103],\n",
              "        [0.35562373, 0.20172807, 0.24582798]]])"
            ]
          },
          "metadata": {},
          "execution_count": 27
        }
      ]
    },
    {
      "cell_type": "markdown",
      "source": [
        "#1.13 Создание массива 10x10 со случайными значениями и поиск минимальных и максимальных значений"
      ],
      "metadata": {
        "id": "wxdCecEvr_le"
      }
    },
    {
      "cell_type": "code",
      "source": [
        "arr = np.random.random((10, 10))\n",
        "(arr.min(), arr.max())"
      ],
      "metadata": {
        "colab": {
          "base_uri": "https://localhost:8080/"
        },
        "id": "qG1oMZiksFRw",
        "outputId": "1bc886ba-15e1-41e8-f671-1b49b93db22b"
      },
      "execution_count": null,
      "outputs": [
        {
          "output_type": "execute_result",
          "data": {
            "text/plain": [
              "(0.010737232609873137, 0.9891885360119305)"
            ]
          },
          "metadata": {},
          "execution_count": 28
        }
      ]
    },
    {
      "cell_type": "markdown",
      "source": [
        "#1.14 Создать случайный вектор размера 30 и найти среднее значение"
      ],
      "metadata": {
        "id": "FSytoT2Psazr"
      }
    },
    {
      "cell_type": "code",
      "source": [
        "vector = np.random.random((30,))\n",
        "vector.mean()"
      ],
      "metadata": {
        "colab": {
          "base_uri": "https://localhost:8080/"
        },
        "id": "qyaadQ1ksaeb",
        "outputId": "684f9bc7-36fb-495b-efcd-ca9286de0932"
      },
      "execution_count": null,
      "outputs": [
        {
          "output_type": "execute_result",
          "data": {
            "text/plain": [
              "0.5338514456382051"
            ]
          },
          "metadata": {},
          "execution_count": 30
        }
      ]
    },
    {
      "cell_type": "markdown",
      "source": [
        "#1.15 Создать двухмерный массив с 1 на границе и 0 внутри"
      ],
      "metadata": {
        "id": "nQtIX8jzssy4"
      }
    },
    {
      "cell_type": "code",
      "source": [
        "arr = np.full((3,3), 1)\n",
        "arr[1:-1,1:-1] = 0\n",
        "arr"
      ],
      "metadata": {
        "colab": {
          "base_uri": "https://localhost:8080/"
        },
        "id": "tvjquY79tKR-",
        "outputId": "efdc5bc3-f7ca-4eab-8d7f-cdb26b31d1bf"
      },
      "execution_count": null,
      "outputs": [
        {
          "output_type": "execute_result",
          "data": {
            "text/plain": [
              "array([[1, 1, 1],\n",
              "       [1, 0, 1],\n",
              "       [1, 1, 1]])"
            ]
          },
          "metadata": {},
          "execution_count": 31
        }
      ]
    },
    {
      "cell_type": "markdown",
      "source": [
        "#1.16 Как добавить границу (заполненную 0's) вокруг существующего массива?"
      ],
      "metadata": {
        "id": "zuxpnY5ztrWr"
      }
    },
    {
      "cell_type": "code",
      "source": [
        "arr = np.pad(arr, pad_width=1, mode='constant', constant_values=0)\n",
        "arr"
      ],
      "metadata": {
        "colab": {
          "base_uri": "https://localhost:8080/"
        },
        "id": "hTasY-i_uHOz",
        "outputId": "36bfcfdb-c30f-45be-e4b8-28601efd12f1"
      },
      "execution_count": null,
      "outputs": [
        {
          "output_type": "execute_result",
          "data": {
            "text/plain": [
              "array([[0, 0, 0, 0, 0],\n",
              "       [0, 1, 1, 1, 0],\n",
              "       [0, 1, 0, 1, 0],\n",
              "       [0, 1, 1, 1, 0],\n",
              "       [0, 0, 0, 0, 0]])"
            ]
          },
          "metadata": {},
          "execution_count": 32
        }
      ]
    },
    {
      "cell_type": "markdown",
      "source": [
        "#1.17 Каков результат следующего выражения?\n"
      ],
      "metadata": {
        "id": "ZhdTDOZzwYn6"
      }
    },
    {
      "cell_type": "code",
      "source": [
        "0 * np.nan  "
      ],
      "metadata": {
        "colab": {
          "base_uri": "https://localhost:8080/"
        },
        "id": "bg0krA8zwYG0",
        "outputId": "4ba8eb06-b5a7-4ac4-dc13-9b23666aef93"
      },
      "execution_count": null,
      "outputs": [
        {
          "output_type": "execute_result",
          "data": {
            "text/plain": [
              "nan"
            ]
          },
          "metadata": {},
          "execution_count": 39
        }
      ]
    },
    {
      "cell_type": "code",
      "source": [
        "np.nan == np.nan  "
      ],
      "metadata": {
        "colab": {
          "base_uri": "https://localhost:8080/"
        },
        "id": "kMtPLq2mxqGx",
        "outputId": "4b4c5f93-a614-4abd-8268-36724ee0933b"
      },
      "execution_count": null,
      "outputs": [
        {
          "output_type": "execute_result",
          "data": {
            "text/plain": [
              "False"
            ]
          },
          "metadata": {},
          "execution_count": 34
        }
      ]
    },
    {
      "cell_type": "code",
      "source": [
        "np.inf > np.nan  "
      ],
      "metadata": {
        "colab": {
          "base_uri": "https://localhost:8080/"
        },
        "id": "Vn874Qblxq99",
        "outputId": "24e09fa5-2a40-4797-990e-b32783b87b65"
      },
      "execution_count": null,
      "outputs": [
        {
          "output_type": "execute_result",
          "data": {
            "text/plain": [
              "False"
            ]
          },
          "metadata": {},
          "execution_count": 35
        }
      ]
    },
    {
      "cell_type": "code",
      "source": [
        "np.nan - np.nan  "
      ],
      "metadata": {
        "colab": {
          "base_uri": "https://localhost:8080/"
        },
        "id": "CJT1QHOXxrxa",
        "outputId": "b0d73780-c474-40d1-8f0b-9e885b6f62b0"
      },
      "execution_count": null,
      "outputs": [
        {
          "output_type": "execute_result",
          "data": {
            "text/plain": [
              "nan"
            ]
          },
          "metadata": {},
          "execution_count": 36
        }
      ]
    },
    {
      "cell_type": "code",
      "source": [
        "np.nan in set([np.nan])  "
      ],
      "metadata": {
        "colab": {
          "base_uri": "https://localhost:8080/"
        },
        "id": "UWUXmu0ixsjS",
        "outputId": "ee88aab7-c71e-4887-be77-fe7470281007"
      },
      "execution_count": null,
      "outputs": [
        {
          "output_type": "execute_result",
          "data": {
            "text/plain": [
              "True"
            ]
          },
          "metadata": {},
          "execution_count": 37
        }
      ]
    },
    {
      "cell_type": "code",
      "source": [
        "0.3 == 3 * 0.1  "
      ],
      "metadata": {
        "colab": {
          "base_uri": "https://localhost:8080/"
        },
        "id": "JI7g09M7xtPE",
        "outputId": "0aefb00f-c660-4aff-a490-82eefd580f83"
      },
      "execution_count": null,
      "outputs": [
        {
          "output_type": "execute_result",
          "data": {
            "text/plain": [
              "False"
            ]
          },
          "metadata": {},
          "execution_count": 38
        }
      ]
    },
    {
      "cell_type": "markdown",
      "source": [
        "#1.18 Создать матрицу 5x5 со значениями 1,2,3,4 как раз под диагональю"
      ],
      "metadata": {
        "id": "f2kXuYIXx6_j"
      }
    },
    {
      "cell_type": "code",
      "source": [
        "mtx = np.diag(np.arange(1, 5), k=-1)\n",
        "mtx"
      ],
      "metadata": {
        "colab": {
          "base_uri": "https://localhost:8080/"
        },
        "id": "7ZDxLugyx9yz",
        "outputId": "45197da7-f7d0-459c-e0c3-b5ed5eb4487a"
      },
      "execution_count": null,
      "outputs": [
        {
          "output_type": "execute_result",
          "data": {
            "text/plain": [
              "array([[0, 0, 0, 0, 0],\n",
              "       [1, 0, 0, 0, 0],\n",
              "       [0, 2, 0, 0, 0],\n",
              "       [0, 0, 3, 0, 0],\n",
              "       [0, 0, 0, 4, 0]])"
            ]
          },
          "metadata": {},
          "execution_count": 40
        }
      ]
    },
    {
      "cell_type": "markdown",
      "source": [
        "#1.19 Создайте матрицу 8x8 и заполните ее шахматной доской"
      ],
      "metadata": {
        "id": "z3Z2JsUXyPbK"
      }
    },
    {
      "cell_type": "code",
      "source": [
        "mtx = np.full((8,8), 0)\n",
        "mtx[1::2,::2] = 1\n",
        "mtx[::2,1::2] = 1\n",
        "print(mtx)"
      ],
      "metadata": {
        "colab": {
          "base_uri": "https://localhost:8080/"
        },
        "id": "FZl_xREeyRF4",
        "outputId": "071606d0-030e-438a-e359-5320c281d0cd"
      },
      "execution_count": null,
      "outputs": [
        {
          "output_type": "stream",
          "name": "stdout",
          "text": [
            "[[0 1 0 1 0 1 0 1]\n",
            " [1 0 1 0 1 0 1 0]\n",
            " [0 1 0 1 0 1 0 1]\n",
            " [1 0 1 0 1 0 1 0]\n",
            " [0 1 0 1 0 1 0 1]\n",
            " [1 0 1 0 1 0 1 0]\n",
            " [0 1 0 1 0 1 0 1]\n",
            " [1 0 1 0 1 0 1 0]]\n"
          ]
        }
      ]
    },
    {
      "cell_type": "markdown",
      "source": [
        "#1.20 Рассмотрим массив размерностью (6,7,8), каков индекс (x,y,z) 100-го элемента?"
      ],
      "metadata": {
        "id": "DdVcr6VHzcx_"
      }
    },
    {
      "cell_type": "code",
      "source": [
        "arr = (6,7,8)\n",
        "print(np.unravel_index(100, arr))"
      ],
      "metadata": {
        "colab": {
          "base_uri": "https://localhost:8080/"
        },
        "id": "_sC-_yfDzxgH",
        "outputId": "b220ea07-5777-4ec9-c15c-de78def63f84"
      },
      "execution_count": null,
      "outputs": [
        {
          "output_type": "stream",
          "name": "stdout",
          "text": [
            "(1, 5, 4)\n"
          ]
        }
      ]
    },
    {
      "cell_type": "markdown",
      "source": [
        "#1.21 Создать 8x8 матрицу и заполнить её в шахматном порядке, используя функцию tile"
      ],
      "metadata": {
        "id": "VBr2jK-K1FKm"
      }
    },
    {
      "cell_type": "code",
      "source": [
        "arr = np.tile(np.array([[0,1,0,1],[1,0,1,0],[0,1,0,1],[1,0,1,0]]), (2,2))\n",
        "print(arr)"
      ],
      "metadata": {
        "colab": {
          "base_uri": "https://localhost:8080/"
        },
        "id": "lnlrYHye1K9u",
        "outputId": "c491901d-a09a-443f-9e30-c2e0b8882dfc"
      },
      "execution_count": null,
      "outputs": [
        {
          "output_type": "stream",
          "name": "stdout",
          "text": [
            "[[0 1 0 1 0 1 0 1]\n",
            " [1 0 1 0 1 0 1 0]\n",
            " [0 1 0 1 0 1 0 1]\n",
            " [1 0 1 0 1 0 1 0]\n",
            " [0 1 0 1 0 1 0 1]\n",
            " [1 0 1 0 1 0 1 0]\n",
            " [0 1 0 1 0 1 0 1]\n",
            " [1 0 1 0 1 0 1 0]]\n"
          ]
        }
      ]
    },
    {
      "cell_type": "markdown",
      "source": [
        "#1.22 Нормализовать случайную матрицу 5x5"
      ],
      "metadata": {
        "id": "iwhlrM441ybM"
      }
    },
    {
      "cell_type": "code",
      "source": [
        "from sklearn. preprocessing import normalize\n",
        "matrix = np.random.random([5, 5])\n",
        "matrix = normalize(matrix, axis= 1 , norm='l1')\n",
        "matrix"
      ],
      "metadata": {
        "colab": {
          "base_uri": "https://localhost:8080/"
        },
        "id": "OKpYtQZ313XB",
        "outputId": "5dc9d03c-1e37-45d3-af66-68556a9a3b4d"
      },
      "execution_count": null,
      "outputs": [
        {
          "output_type": "execute_result",
          "data": {
            "text/plain": [
              "array([[0.23757383, 0.31450368, 0.11822843, 0.11956823, 0.21012584],\n",
              "       [0.44437642, 0.05998441, 0.19764721, 0.18299083, 0.11500113],\n",
              "       [0.33904858, 0.04497883, 0.06695874, 0.25333349, 0.29568037],\n",
              "       [0.17888424, 0.29976462, 0.0604354 , 0.15996546, 0.30095027],\n",
              "       [0.22381002, 0.1506698 , 0.22573077, 0.11058049, 0.28920891]])"
            ]
          },
          "metadata": {},
          "execution_count": 48
        }
      ]
    },
    {
      "cell_type": "markdown",
      "source": [
        "#1.23 Создать пользовательский тип dtype, который описывает цвет как четыре неподписанных байта (RGBA)"
      ],
      "metadata": {
        "id": "PJ_wVwx74p9J"
      }
    },
    {
      "cell_type": "code",
      "source": [
        "color = np.dtype([(\"r\", np.ubyte, 1), (\"g\", np.ubyte, 1),\n",
        "                  (\"b\", np.ubyte, 1),(\"a\", np.ubyte, 1)])"
      ],
      "metadata": {
        "id": "MfWd5BCk4xP3"
      },
      "execution_count": null,
      "outputs": []
    },
    {
      "cell_type": "markdown",
      "source": [
        "#1.24 Умножить матрицу 5x3 на матрицу 3x2 (реальный матричный продукт)"
      ],
      "metadata": {
        "id": "GBs_3aP35RA2"
      }
    },
    {
      "cell_type": "code",
      "source": [
        "mtx = np.dot(np.random.random((5, 3)), np.random.random((3, 2)))\n",
        "mtx"
      ],
      "metadata": {
        "colab": {
          "base_uri": "https://localhost:8080/"
        },
        "id": "XsKNjGMv5Uqd",
        "outputId": "41808296-e045-4984-e07d-6e878db995b1"
      },
      "execution_count": null,
      "outputs": [
        {
          "output_type": "execute_result",
          "data": {
            "text/plain": [
              "array([[1.43908154, 0.54083692],\n",
              "       [0.54747501, 0.35859433],\n",
              "       [1.05114232, 0.50576437],\n",
              "       [1.48323835, 1.01311278],\n",
              "       [1.35098317, 0.91009445]])"
            ]
          },
          "metadata": {},
          "execution_count": 51
        }
      ]
    },
    {
      "cell_type": "markdown",
      "source": [
        "#1.25 Если задан 1D-массив, отрицаются все элементы, находящиеся на месте между 3 и 8"
      ],
      "metadata": {
        "id": "1aBw0gL97ry-"
      }
    },
    {
      "cell_type": "code",
      "source": [
        "arr = np.random.random((10,))*10\n",
        "print(arr)\n",
        "arr[(arr >= 3) & (arr <= 8)] *= -1 \n",
        "arr"
      ],
      "metadata": {
        "colab": {
          "base_uri": "https://localhost:8080/"
        },
        "id": "GWZ4kTSW-B04",
        "outputId": "2b221d6d-1c89-42e0-efe6-1e3dccf8de40"
      },
      "execution_count": null,
      "outputs": [
        {
          "output_type": "stream",
          "name": "stdout",
          "text": [
            "[2.37320424 1.80891975 7.109359   5.68978758 5.73349845 1.01439704\n",
            " 3.50718125 6.57608486 9.56719291 3.4150048 ]\n"
          ]
        },
        {
          "output_type": "execute_result",
          "data": {
            "text/plain": [
              "array([ 2.37320424,  1.80891975, -7.109359  , -5.68978758, -5.73349845,\n",
              "        1.01439704, -3.50718125, -6.57608486,  9.56719291, -3.4150048 ])"
            ]
          },
          "metadata": {},
          "execution_count": 55
        }
      ]
    },
    {
      "cell_type": "markdown",
      "source": [
        "#1.26 Что выводит следующий скрипт?"
      ],
      "metadata": {
        "id": "ss86hrwJ-tdg"
      }
    },
    {
      "cell_type": "code",
      "source": [
        "print(sum(range(5), -1)) "
      ],
      "metadata": {
        "colab": {
          "base_uri": "https://localhost:8080/"
        },
        "id": "wh8xV0XK-wJt",
        "outputId": "8136e1be-0ea2-47d0-e9fa-82b576ec6a9d"
      },
      "execution_count": null,
      "outputs": [
        {
          "output_type": "stream",
          "name": "stdout",
          "text": [
            "9\n"
          ]
        }
      ]
    },
    {
      "cell_type": "code",
      "source": [
        "from numpy import *"
      ],
      "metadata": {
        "id": "CeemuEyF-6qA"
      },
      "execution_count": null,
      "outputs": []
    },
    {
      "cell_type": "code",
      "source": [
        "print(sum(range(5), -1))  # 10"
      ],
      "metadata": {
        "colab": {
          "base_uri": "https://localhost:8080/"
        },
        "id": "z04bwYau-7r6",
        "outputId": "274322d2-f3b8-4904-9ca0-126f57db5a14"
      },
      "execution_count": null,
      "outputs": [
        {
          "output_type": "stream",
          "name": "stdout",
          "text": [
            "10\n"
          ]
        }
      ]
    },
    {
      "cell_type": "markdown",
      "source": [
        "#1.27 Где находится целочисленный вектор Z, какое из этих выражений законно?"
      ],
      "metadata": {
        "id": "HyUkQZ-1--86"
      }
    },
    {
      "cell_type": "code",
      "source": [
        "Z = np.arange(5)"
      ],
      "metadata": {
        "id": "rarXEJo__EBM"
      },
      "execution_count": null,
      "outputs": []
    },
    {
      "cell_type": "code",
      "source": [
        "Z ** Z"
      ],
      "metadata": {
        "colab": {
          "base_uri": "https://localhost:8080/"
        },
        "id": "jViH3CtQ_ZVO",
        "outputId": "5d3993c3-b480-4045-a4cf-1ab12d1eae0b"
      },
      "execution_count": null,
      "outputs": [
        {
          "output_type": "execute_result",
          "data": {
            "text/plain": [
              "array([  1,   1,   4,  27, 256])"
            ]
          },
          "metadata": {},
          "execution_count": 67
        }
      ]
    },
    {
      "cell_type": "code",
      "source": [
        "2 << Z >> 2 "
      ],
      "metadata": {
        "colab": {
          "base_uri": "https://localhost:8080/"
        },
        "id": "n1bFfxoW_bPM",
        "outputId": "7563e0c3-0dcc-4a3e-bc38-db58ab51066d"
      },
      "execution_count": null,
      "outputs": [
        {
          "output_type": "execute_result",
          "data": {
            "text/plain": [
              "array([0, 1, 2, 4, 8])"
            ]
          },
          "metadata": {},
          "execution_count": 68
        }
      ]
    },
    {
      "cell_type": "code",
      "source": [
        "Z < - Z "
      ],
      "metadata": {
        "colab": {
          "base_uri": "https://localhost:8080/"
        },
        "id": "XvjuJ1hG_cNJ",
        "outputId": "462f27ef-8b1e-44f0-b109-6c9b4f22add0"
      },
      "execution_count": null,
      "outputs": [
        {
          "output_type": "execute_result",
          "data": {
            "text/plain": [
              "array([False, False, False, False, False])"
            ]
          },
          "metadata": {},
          "execution_count": 69
        }
      ]
    },
    {
      "cell_type": "code",
      "source": [
        "1j * Z "
      ],
      "metadata": {
        "colab": {
          "base_uri": "https://localhost:8080/"
        },
        "id": "SNhSW4LG_fQ6",
        "outputId": "2e910c73-740b-4c3e-a4e6-4ae3af169ac6"
      },
      "execution_count": null,
      "outputs": [
        {
          "output_type": "execute_result",
          "data": {
            "text/plain": [
              "array([0.+0.j, 0.+1.j, 0.+2.j, 0.+3.j, 0.+4.j])"
            ]
          },
          "metadata": {},
          "execution_count": 71
        }
      ]
    },
    {
      "cell_type": "code",
      "source": [
        "Z / 1 / 1"
      ],
      "metadata": {
        "colab": {
          "base_uri": "https://localhost:8080/"
        },
        "id": "6PkDN6Xk_isu",
        "outputId": "722ff469-ab30-43b3-e488-43eb68927d2e"
      },
      "execution_count": null,
      "outputs": [
        {
          "output_type": "execute_result",
          "data": {
            "text/plain": [
              "array([0., 1., 2., 3., 4.])"
            ]
          },
          "metadata": {},
          "execution_count": 72
        }
      ]
    },
    {
      "cell_type": "code",
      "source": [
        "Z < Z > Z"
      ],
      "metadata": {
        "colab": {
          "base_uri": "https://localhost:8080/",
          "height": 166
        },
        "id": "tDvkVRpB_j9y",
        "outputId": "0f06d710-b9fb-4285-b0da-26df60e73c02"
      },
      "execution_count": null,
      "outputs": [
        {
          "output_type": "error",
          "ename": "ValueError",
          "evalue": "ignored",
          "traceback": [
            "\u001b[0;31m---------------------------------------------------------------------------\u001b[0m",
            "\u001b[0;31mValueError\u001b[0m                                Traceback (most recent call last)",
            "\u001b[0;32m<ipython-input-73-a8a6f6561db3>\u001b[0m in \u001b[0;36m<module>\u001b[0;34m\u001b[0m\n\u001b[0;32m----> 1\u001b[0;31m \u001b[0mZ\u001b[0m \u001b[0;34m<\u001b[0m \u001b[0mZ\u001b[0m \u001b[0;34m>\u001b[0m \u001b[0mZ\u001b[0m\u001b[0;34m\u001b[0m\u001b[0;34m\u001b[0m\u001b[0m\n\u001b[0m",
            "\u001b[0;31mValueError\u001b[0m: The truth value of an array with more than one element is ambiguous. Use a.any() or a.all()"
          ]
        }
      ]
    },
    {
      "cell_type": "markdown",
      "source": [
        "#1.28 Каков результат следующих выражений?"
      ],
      "metadata": {
        "id": "gZkK2-JO_v3x"
      }
    },
    {
      "cell_type": "code",
      "source": [
        "np.array(0) / np.array(0)"
      ],
      "metadata": {
        "colab": {
          "base_uri": "https://localhost:8080/"
        },
        "id": "1VDKr6bE_zcj",
        "outputId": "d1f3e751-1ad4-45c8-ebb5-7b887e90270f"
      },
      "execution_count": null,
      "outputs": [
        {
          "output_type": "stream",
          "name": "stderr",
          "text": [
            "/usr/local/lib/python3.7/dist-packages/ipykernel_launcher.py:1: RuntimeWarning: invalid value encountered in true_divide\n",
            "  \"\"\"Entry point for launching an IPython kernel.\n"
          ]
        },
        {
          "output_type": "execute_result",
          "data": {
            "text/plain": [
              "nan"
            ]
          },
          "metadata": {},
          "execution_count": 74
        }
      ]
    },
    {
      "cell_type": "code",
      "source": [
        "np.array(0) // np.array(0)"
      ],
      "metadata": {
        "colab": {
          "base_uri": "https://localhost:8080/"
        },
        "id": "etEtJtPH_2HP",
        "outputId": "d4a279d1-eec0-4f4f-b61b-6af0d5657710"
      },
      "execution_count": null,
      "outputs": [
        {
          "output_type": "stream",
          "name": "stderr",
          "text": [
            "/usr/local/lib/python3.7/dist-packages/ipykernel_launcher.py:1: RuntimeWarning: divide by zero encountered in floor_divide\n",
            "  \"\"\"Entry point for launching an IPython kernel.\n"
          ]
        },
        {
          "output_type": "execute_result",
          "data": {
            "text/plain": [
              "0"
            ]
          },
          "metadata": {},
          "execution_count": 75
        }
      ]
    },
    {
      "cell_type": "code",
      "source": [
        "np.array([np.nan]).astype(int).astype(float)"
      ],
      "metadata": {
        "colab": {
          "base_uri": "https://localhost:8080/"
        },
        "id": "135MNIuK_3cb",
        "outputId": "e67540b1-aed6-428e-db94-92d5108f9d07"
      },
      "execution_count": null,
      "outputs": [
        {
          "output_type": "execute_result",
          "data": {
            "text/plain": [
              "array([-9.22337204e+18])"
            ]
          },
          "metadata": {},
          "execution_count": 76
        }
      ]
    },
    {
      "cell_type": "markdown",
      "source": [
        "#1.29 Как округлить от нуля массив поплавков ?"
      ],
      "metadata": {
        "id": "QAOuzwOV_8ZY"
      }
    },
    {
      "cell_type": "code",
      "source": [
        "arr = np.round(np.random.random((10,)))\n",
        "arr"
      ],
      "metadata": {
        "colab": {
          "base_uri": "https://localhost:8080/"
        },
        "id": "gZWJl-ilADrQ",
        "outputId": "27587686-b61b-4b07-c819-447d7c0753f1"
      },
      "execution_count": null,
      "outputs": [
        {
          "output_type": "execute_result",
          "data": {
            "text/plain": [
              "array([1., 1., 1., 1., 0., 1., 1., 0., 0., 1.])"
            ]
          },
          "metadata": {},
          "execution_count": 79
        }
      ]
    },
    {
      "cell_type": "markdown",
      "source": [
        "#1.30 Как найти общие значения между двумя массивами?"
      ],
      "metadata": {
        "id": "yYGbCwicAb6f"
      }
    },
    {
      "cell_type": "code",
      "source": [
        "np.intersect1d(np.arange(-5, 5), np.arange(0, 10))"
      ],
      "metadata": {
        "colab": {
          "base_uri": "https://localhost:8080/"
        },
        "id": "xTNQk-4uAgBK",
        "outputId": "a8ce7a47-e4a2-47a9-c9a8-837f6504fd76"
      },
      "execution_count": null,
      "outputs": [
        {
          "output_type": "execute_result",
          "data": {
            "text/plain": [
              "array([0, 1, 2, 3, 4])"
            ]
          },
          "metadata": {},
          "execution_count": 80
        }
      ]
    },
    {
      "cell_type": "markdown",
      "source": [
        "#1.31 Как игнорировать все дурацкие предупреждения (не рекомендуется)?"
      ],
      "metadata": {
        "id": "8YMf0qhrAuJi"
      }
    },
    {
      "cell_type": "code",
      "source": [
        "defaults = np.seterr(all=\"ignore\")"
      ],
      "metadata": {
        "id": "pzxJkZ4oAy5C"
      },
      "execution_count": null,
      "outputs": []
    },
    {
      "cell_type": "markdown",
      "source": [
        "#1.32 Is the following expressions true?"
      ],
      "metadata": {
        "id": "lIQjV0fzA5g3"
      }
    },
    {
      "cell_type": "code",
      "source": [
        "print(np.sqrt(-1) == np.emath.sqrt(-1))"
      ],
      "metadata": {
        "colab": {
          "base_uri": "https://localhost:8080/"
        },
        "id": "O-PbSBxeA9lH",
        "outputId": "364c607a-2d6d-4c70-f04a-eaf525bd7483"
      },
      "execution_count": null,
      "outputs": [
        {
          "output_type": "stream",
          "name": "stdout",
          "text": [
            "False\n"
          ]
        }
      ]
    },
    {
      "cell_type": "markdown",
      "source": [
        "#1.33 Как получить даты вчера, сегодня и завтра? "
      ],
      "metadata": {
        "id": "w0t4-nw2BCLZ"
      }
    },
    {
      "cell_type": "code",
      "source": [
        "print(np.datetime64('today', 'D') - np.timedelta64('1'), np.datetime64('today', 'D'), np.datetime64('today', 'D') + np.timedelta64('1'))"
      ],
      "metadata": {
        "colab": {
          "base_uri": "https://localhost:8080/"
        },
        "id": "BARjrOxCBBkg",
        "outputId": "34b68220-f9b3-49f2-a645-353613bb5d7b"
      },
      "execution_count": null,
      "outputs": [
        {
          "output_type": "stream",
          "name": "stdout",
          "text": [
            "2022-10-25 2022-10-26 2022-10-27\n"
          ]
        }
      ]
    },
    {
      "cell_type": "markdown",
      "source": [
        "#2.34 Как получить все даты, соответствующие месяцу июля 2016 года?"
      ],
      "metadata": {
        "id": "_EVM0c_3CFHj"
      }
    },
    {
      "cell_type": "code",
      "source": [
        "np.arange('2016-07', '2016-08', dtype='datetime64[D]')"
      ],
      "metadata": {
        "colab": {
          "base_uri": "https://localhost:8080/"
        },
        "id": "VUSQpuNkCMXB",
        "outputId": "ca6aba5c-47b6-4b2d-d3b7-61fb089f6ad5"
      },
      "execution_count": null,
      "outputs": [
        {
          "output_type": "execute_result",
          "data": {
            "text/plain": [
              "array(['2016-07-01', '2016-07-02', '2016-07-03', '2016-07-04',\n",
              "       '2016-07-05', '2016-07-06', '2016-07-07', '2016-07-08',\n",
              "       '2016-07-09', '2016-07-10', '2016-07-11', '2016-07-12',\n",
              "       '2016-07-13', '2016-07-14', '2016-07-15', '2016-07-16',\n",
              "       '2016-07-17', '2016-07-18', '2016-07-19', '2016-07-20',\n",
              "       '2016-07-21', '2016-07-22', '2016-07-23', '2016-07-24',\n",
              "       '2016-07-25', '2016-07-26', '2016-07-27', '2016-07-28',\n",
              "       '2016-07-29', '2016-07-30', '2016-07-31'], dtype='datetime64[D]')"
            ]
          },
          "metadata": {},
          "execution_count": 87
        }
      ]
    },
    {
      "cell_type": "markdown",
      "source": [
        "#2.35 Как вычислить ((А+В)*(-А/2)) на месте (без копии)?"
      ],
      "metadata": {
        "id": "HGPqzJu8CUzL"
      }
    },
    {
      "cell_type": "code",
      "source": [
        "A, B, C = np.random.random((3, 3)),\\\n",
        " np.random.random((3, 3)), np.random.random((3, 3))\n",
        "np.add(A, B, out=B)\n",
        "np.divide(A, 2, out=A)\n",
        "np.negative(A, out=A)\n",
        "np.multiply(A, B, out=A)\n",
        "A"
      ],
      "metadata": {
        "colab": {
          "base_uri": "https://localhost:8080/"
        },
        "id": "67Ek6N9OCaZz",
        "outputId": "300b1127-da05-455f-dc69-5e843abbf3be"
      },
      "execution_count": null,
      "outputs": [
        {
          "output_type": "execute_result",
          "data": {
            "text/plain": [
              "array([[-3.41693784e-04, -5.79304564e-01, -4.16003455e-01],\n",
              "       [-2.26185375e-01, -3.83979631e-02, -1.39669936e-01],\n",
              "       [-3.01033051e-02, -7.04808941e-02, -2.69518844e-01]])"
            ]
          },
          "metadata": {},
          "execution_count": 89
        }
      ]
    },
    {
      "cell_type": "markdown",
      "source": [
        "#2.36 Извлечение целочисленной части случайного массива с помощью 5 различных методов"
      ],
      "metadata": {
        "id": "vkXQgto3C9ST"
      }
    },
    {
      "cell_type": "code",
      "source": [
        "arr = np.random.random((3,))*10\n",
        "print(arr)\n",
        "print(np.int64(arr))\n",
        "print(arr.astype(np.int32))\n",
        "print(np.floor(arr))\n",
        "print(np.array(list(map(lambda x: int(x), list(arr)))))\n",
        "print(np.round(arr))"
      ],
      "metadata": {
        "colab": {
          "base_uri": "https://localhost:8080/"
        },
        "id": "m3LYnzb6DTqu",
        "outputId": "b271528c-73d9-4a2d-c30d-284955172230"
      },
      "execution_count": 110,
      "outputs": [
        {
          "output_type": "stream",
          "name": "stdout",
          "text": [
            "[2.04678387 4.41334004 3.08074711]\n",
            "[2 4 3]\n",
            "[2 4 3]\n",
            "[2. 4. 3.]\n",
            "[2 4 3]\n",
            "[2. 4. 3.]\n"
          ]
        }
      ]
    },
    {
      "cell_type": "markdown",
      "source": [
        "#2.37 Создать матрицу 5x5 со значениями строк от 0 до 4"
      ],
      "metadata": {
        "id": "S8yFIWEWHEkV"
      }
    },
    {
      "cell_type": "code",
      "source": [
        "arr = np.full((5,5), np.arange(0, 5))\n",
        "arr"
      ],
      "metadata": {
        "colab": {
          "base_uri": "https://localhost:8080/"
        },
        "id": "lPMqcaUjHKJ8",
        "outputId": "5ff430b9-6beb-4e7d-9ad2-c1ab34f50ee7"
      },
      "execution_count": 114,
      "outputs": [
        {
          "output_type": "execute_result",
          "data": {
            "text/plain": [
              "array([[0, 1, 2, 3, 4],\n",
              "       [0, 1, 2, 3, 4],\n",
              "       [0, 1, 2, 3, 4],\n",
              "       [0, 1, 2, 3, 4],\n",
              "       [0, 1, 2, 3, 4]])"
            ]
          },
          "metadata": {},
          "execution_count": 114
        }
      ]
    },
    {
      "cell_type": "markdown",
      "source": [
        "#2.39 Создать вектор размера 10 со значениями от 0 до 1, оба исключены"
      ],
      "metadata": {
        "id": "oKn6hCmDHj-M"
      }
    },
    {
      "cell_type": "code",
      "source": [
        "np.linspace(0.1 , 1, 10, endpoint=False)"
      ],
      "metadata": {
        "colab": {
          "base_uri": "https://localhost:8080/"
        },
        "id": "QAn3ME7BHkRB",
        "outputId": "fb87da32-d74b-4408-e256-2b86341d346e"
      },
      "execution_count": 118,
      "outputs": [
        {
          "output_type": "execute_result",
          "data": {
            "text/plain": [
              "array([0.1 , 0.19, 0.28, 0.37, 0.46, 0.55, 0.64, 0.73, 0.82, 0.91])"
            ]
          },
          "metadata": {},
          "execution_count": 118
        }
      ]
    }
  ]
}
